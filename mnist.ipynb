{
  "nbformat": 4,
  "nbformat_minor": 1,
  "cells": [
    {
      "cell_type": "code",
      "outputs": [],
      "source": [
        "# This Python 3 environment comes with many helpful analytics libraries installed\n",
        "# It is defined by the kaggle/python docker image: https://github.com/kaggle/docker-python\n",
        "# For example, here's several helpful packages to load in \n",
        "\n",
        "import numpy as np # linear algebra\n",
        "import pandas as pd # data processing, CSV file I/O (e.g. pd.read_csv)\n",
        "import cv2,os\n",
        "# Input data files are available in the \"../input/\" directory.\n",
        "# For example, running this (by clicking run or pressing Shift+Enter) will list the files in the input directory\n",
        "\n",
        "\n",
        "from sklearn.model_selection import train_test_split\n",
        "from sklearn.metrics import confusion_matrix\n",
        "import itertools\n",
        "\n",
        "from keras.utils.np_utils import to_categorical # convert to one-hot-encoding\n",
        "from keras.models import Sequential\n",
        "from keras.layers import Dense, Dropout, Flatten, Conv2D, MaxPool2D\n",
        "from keras.optimizers import RMSprop\n",
        "from keras.preprocessing.image import ImageDataGenerator\n",
        "from keras.callbacks import ReduceLROnPlateau\n",
        "\n",
        "from subprocess import check_output\n",
        "print(check_output([\"ls\", \"../input\"]).decode(\"utf8\"))\n",
        "\n",
        "# Any results you write to the current directory are saved as output."
      ],
      "execution_count": null,
      "metadata": {
        "_cell_guid": "89c7cfa8-bee5-4c79-92d4-1718a8cd1827",
        "_uuid": "fbf98bebdbc762de89b6c19487c6495bd11bbe39"
      }
    },
    {
      "cell_type": "code",
      "outputs": [],
      "source": [
        "train = pd.read_csv('../input/train.csv')\n",
        "test = pd.read_csv('../input/test.csv')"
      ],
      "execution_count": null,
      "metadata": {
        "collapsed": true,
        "_uuid": "cef278d9d25f461ab529b1ab62efb201728463e0"
      }
    },
    {
      "cell_type": "code",
      "outputs": [],
      "source": [
        "print(train.shape)"
      ],
      "execution_count": null,
      "metadata": {
        "collapsed": true,
        "_uuid": "b1f0d77f22615f3f83f4d8b0756eb4a59d4a5027"
      }
    },
    {
      "cell_type": "code",
      "outputs": [],
      "source": [
        "labels = train['label']\n",
        "labels = to_categorical(labels,num_classes=10)"
      ],
      "execution_count": null,
      "metadata": {
        "collapsed": true,
        "_uuid": "f330179c160d9491b84e36b67488359b1c25d3d4"
      }
    },
    {
      "cell_type": "code",
      "outputs": [],
      "source": [
        "train_X = train.drop('label',axis=1)"
      ],
      "execution_count": null,
      "metadata": {
        "collapsed": true,
        "_uuid": "c214756d7eac55a1667dff1f4b1349d08760e6de"
      }
    },
    {
      "cell_type": "code",
      "outputs": [],
      "source": [
        "train_X=train_X.values.reshape(-1,28,28,1)\n",
        "test=test.values.reshape(-1,28,28,1)"
      ],
      "execution_count": null,
      "metadata": {
        "collapsed": true,
        "_uuid": "fe3afbfb3024e486c4cad4e1db4b188840c44033"
      }
    },
    {
      "cell_type": "code",
      "outputs": [],
      "source": [
        "model = Sequential()\n",
        "\n",
        "\n",
        "model.add( Conv2D(filters=32, kernel_size=(5,5) ,activation='relu',\n",
        "                  input_shape=(28,28,1),padding='same' ) )\n",
        "model.add( Conv2D(filters=32, kernel_size=(5,5) ,activation='relu',\n",
        "                  input_shape=(28,28,1),padding='same' ) )\n",
        "model.add(MaxPool2D(pool_size = (2,2)))\n",
        "model.add(Dropout(0.25))\n",
        "\n",
        "\n",
        "model.add( Conv2D(filters=32, kernel_size=(5,5) ,activation='relu',\n",
        "                  input_shape=(28,28,1),padding='same' ) )\n",
        "model.add( Conv2D(filters=32, kernel_size=(5,5) ,activation='relu',\n",
        "                  input_shape=(28,28,1),padding='same' ) )\n",
        "model.add(MaxPool2D(pool_size = (2,2)))\n",
        "model.add(Dropout(0.25))\n",
        "\n",
        "\n",
        "model.add(Flatten())\n",
        "model.add(Dense(256,activation='relu'))\n",
        "model.add(Dense(10,activation='softmax'))\n",
        "\n",
        "\n",
        "model.compile(optimizer='adam' ,loss='categorical_crossentropy', metrics=['accuracy'])\n"
      ],
      "execution_count": null,
      "metadata": {
        "collapsed": true,
        "_uuid": "154afacc058f6af1dc9889a3096619049b6d6fb2"
      }
    },
    {
      "cell_type": "code",
      "outputs": [],
      "source": [],
      "execution_count": null,
      "metadata": {
        "collapsed": true,
        "_uuid": "a012466f5633403c7b9e9b30d5d847792c5946f0"
      }
    }
  ],
  "metadata": {
    "kernelspec": {
      "display_name": "Python 3",
      "language": "python",
      "name": "python3"
    },
    "language_info": {
      "mimetype": "text/x-python",
      "pygments_lexer": "ipython3",
      "codemirror_mode": {
        "version": 3,
        "name": "ipython"
      },
      "nbconvert_exporter": "python",
      "file_extension": ".py",
      "version": "3.6.3",
      "name": "python"
    }
  }
}