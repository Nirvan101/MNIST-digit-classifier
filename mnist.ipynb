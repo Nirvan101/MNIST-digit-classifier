{
  "cells": [
    {
      "metadata": {
        "_cell_guid": "89c7cfa8-bee5-4c79-92d4-1718a8cd1827",
        "collapsed": true,
        "_uuid": "fbf98bebdbc762de89b6c19487c6495bd11bbe39",
        "trusted": false
      },
      "cell_type": "code",
      "source": "# This Python 3 environment comes with many helpful analytics libraries installed\n# It is defined by the kaggle/python docker image: https://github.com/kaggle/docker-python\n# For example, here's several helpful packages to load in \n\nimport numpy as np # linear algebra\nimport pandas as pd # data processing, CSV file I/O (e.g. pd.read_csv)\nimport cv2,os\n# Input data files are available in the \"../input/\" directory.\n# For example, running this (by clicking run or pressing Shift+Enter) will list the files in the input directory\n\n\nfrom sklearn.model_selection import train_test_split\nfrom sklearn.metrics import confusion_matrix\nimport itertools\n\nfrom keras.utils.np_utils import to_categorical # convert to one-hot-encoding\nfrom keras.models import Sequential\nfrom keras.layers import Dense, Dropout, Flatten, Conv2D, MaxPool2D\nfrom keras.optimizers import RMSprop\nfrom keras.preprocessing.image import ImageDataGenerator\nfrom keras.callbacks import ReduceLROnPlateau\n\nfrom subprocess import check_output\nprint(check_output([\"ls\", \"../input\"]).decode(\"utf8\"))\n\n# Any results you write to the current directory are saved as output.",
      "execution_count": null,
      "outputs": []
    },
    {
      "metadata": {
        "_cell_guid": "21a39547-7b39-4e0f-a6ff-10293fd20d57",
        "collapsed": true,
        "_uuid": "cef278d9d25f461ab529b1ab62efb201728463e0",
        "trusted": false
      },
      "cell_type": "code",
      "source": "train = pd.read_csv('../input/train.csv')\ntest = pd.read_csv('../input/test.csv')",
      "execution_count": null,
      "outputs": []
    },
    {
      "metadata": {
        "_cell_guid": "dca0bdfe-1a12-4f95-a9bf-201f41c6bc08",
        "collapsed": true,
        "_uuid": "6da059b5dac3cd910aab55d6f6c7179a79f46f23",
        "trusted": false
      },
      "cell_type": "code",
      "source": "train=train.iloc[0:30000,:]\nprint(train.shape)",
      "execution_count": null,
      "outputs": []
    },
    {
      "metadata": {
        "_cell_guid": "80af5b32-3683-4d83-93e3-d86eb54fe53e",
        "collapsed": true,
        "_uuid": "f330179c160d9491b84e36b67488359b1c25d3d4",
        "trusted": false
      },
      "cell_type": "code",
      "source": "labels = train['label']\nlabels = to_categorical(labels,num_classes=10)",
      "execution_count": null,
      "outputs": []
    },
    {
      "metadata": {
        "_cell_guid": "28dd993d-aba7-4c34-9e3a-a56eaa306244",
        "collapsed": true,
        "_uuid": "c214756d7eac55a1667dff1f4b1349d08760e6de",
        "trusted": false
      },
      "cell_type": "code",
      "source": "train_X = train.drop('label',axis=1)",
      "execution_count": null,
      "outputs": []
    },
    {
      "metadata": {
        "_cell_guid": "21c92a85-5298-414a-a6d1-724b5a5e9d08",
        "collapsed": true,
        "_uuid": "4990b4295fa8f4b69b1b776bb72ab95500409def",
        "trusted": false
      },
      "cell_type": "code",
      "source": "train_X = train_X/255.0 \ntest = test/255.0 ",
      "execution_count": null,
      "outputs": []
    },
    {
      "metadata": {
        "_cell_guid": "984bce0e-42b0-4290-b045-a716ae965ad7",
        "collapsed": true,
        "_uuid": "fe3afbfb3024e486c4cad4e1db4b188840c44033",
        "trusted": false
      },
      "cell_type": "code",
      "source": "train_X=train_X.values.reshape(-1,28,28,1)\ntest=test.values.reshape(-1,28,28,1)",
      "execution_count": null,
      "outputs": []
    },
    {
      "metadata": {
        "_cell_guid": "1f0f03ec-f7b5-4886-91bf-bc2d796757f1",
        "collapsed": true,
        "_uuid": "154afacc058f6af1dc9889a3096619049b6d6fb2",
        "trusted": false
      },
      "cell_type": "code",
      "source": "model = Sequential()\n\n\nmodel.add( Conv2D(filters=32, kernel_size=(5,5) ,activation='relu',\n                  input_shape=(28,28,1),padding='same' ) )\nmodel.add( Conv2D(filters=32, kernel_size=(5,5) ,activation='relu',\n                  input_shape=(28,28,1),padding='same' ) )\nmodel.add(MaxPool2D(pool_size = (2,2)))\nmodel.add(Dropout(0.25))\n\n\nmodel.add( Conv2D(filters=32, kernel_size=(5,5) ,activation='relu',\n                  input_shape=(28,28,1),padding='same' ) )\nmodel.add( Conv2D(filters=32, kernel_size=(5,5) ,activation='relu',\n                  input_shape=(28,28,1),padding='same' ) )\nmodel.add(MaxPool2D(pool_size = (2,2)))\nmodel.add(Dropout(0.25))\n\n\nmodel.add(Flatten())\nmodel.add(Dense(256,activation='relu'))\nmodel.add(Dense(10,activation='softmax'))\n\n\nmodel.compile(optimizer='adam' ,loss='categorical_crossentropy', metrics=['accuracy'])\n",
      "execution_count": null,
      "outputs": []
    },
    {
      "metadata": {
        "_cell_guid": "b9878539-7a4d-492b-907c-2121056b7472",
        "collapsed": true,
        "_uuid": "a012466f5633403c7b9e9b30d5d847792c5946f0",
        "trusted": false
      },
      "cell_type": "code",
      "source": "model.fit(train_X,labels)",
      "execution_count": null,
      "outputs": []
    },
    {
      "metadata": {
        "_cell_guid": "06344862-75b4-4729-95cd-c70d9053932d",
        "collapsed": true,
        "_uuid": "52a088220f475e7f9fea088aa3ebc44f92f8cfcb",
        "trusted": false
      },
      "cell_type": "code",
      "source": "pred = model.predict(test)\npred_labels = np.argmax(pred,axis=1)",
      "execution_count": null,
      "outputs": []
    },
    {
      "metadata": {
        "_cell_guid": "c2fedab1-cdfc-4cde-a8d0-086ac8034104",
        "collapsed": true,
        "scrolled": true,
        "_uuid": "58bb343da7ee00c4e0785976698e6bea9e87d270",
        "trusted": false
      },
      "cell_type": "code",
      "source": "sub = pd.DataFrame({  'ImageId' : range(1,len(test)+1)  ,'Label' : pred_labels})",
      "execution_count": null,
      "outputs": []
    },
    {
      "metadata": {
        "_cell_guid": "591d3ad7-818e-48dc-9e80-41bd126c4b14",
        "collapsed": true,
        "_uuid": "6a16a907519cb7b000cb1fab60dfe6a33111c84d",
        "trusted": false
      },
      "cell_type": "code",
      "source": "sub.to_csv('submission.csv', index=False)",
      "execution_count": null,
      "outputs": []
    },
    {
      "metadata": {
        "_cell_guid": "a1c5fc83-f090-4c29-9a23-3a71f24b9333",
        "collapsed": true,
        "_uuid": "d2e1337f0cd3ed286d1dafa3a65f1b8f6981688d",
        "trusted": false
      },
      "cell_type": "code",
      "source": "",
      "execution_count": null,
      "outputs": []
    }
  ],
  "metadata": {
    "language_info": {
      "pygments_lexer": "ipython3",
      "file_extension": ".py",
      "name": "python",
      "mimetype": "text/x-python",
      "version": "3.6.3",
      "codemirror_mode": {
        "version": 3,
        "name": "ipython"
      },
      "nbconvert_exporter": "python"
    },
    "kernelspec": {
      "display_name": "Python 3",
      "language": "python",
      "name": "python3"
    }
  },
  "nbformat": 4,
  "nbformat_minor": 1
}